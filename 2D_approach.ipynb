{
 "cells": [
  {
   "cell_type": "code",
   "execution_count": null,
   "metadata": {},
   "outputs": [],
   "source": [
    "import cv2 as cv\n",
    "import glob\n",
    "import numpy as np\n",
    "import matplotlib.pyplot as plt"
   ]
  },
  {
   "cell_type": "code",
   "execution_count": null,
   "metadata": {},
   "outputs": [],
   "source": [
    "filenames = sorted(glob.glob(\"motion3_subset/*\"))\n",
    "print(len(filenames))\n",
    "n = 840\n",
    "step = len(filenames) // n\n",
    "if step < 1:\n",
    "    step = 1\n",
    "filenames = filenames[0::step]\n",
    "print(len(filenames))"
   ]
  },
  {
   "cell_type": "code",
   "execution_count": null,
   "metadata": {},
   "outputs": [],
   "source": [
    "images = []\n",
    "\n",
    "for image in filenames:\n",
    "    images.append(cv.imread(image))\n"
   ]
  },
  {
   "cell_type": "code",
   "execution_count": null,
   "metadata": {},
   "outputs": [],
   "source": [
    "# image grid\n",
    "def image_grid(images, rows, cols):\n",
    "    fig = plt.figure(figsize=(2 * cols, 2 * rows))\n",
    "    for i in range(0, rows * cols):\n",
    "        fig.add_subplot(rows, cols, i + 1)\n",
    "        image = cv.cvtColor(images[i], cv.COLOR_BGR2RGB)\n",
    "        plt.imshow(image)\n",
    "        plt.axis(\"off\")\n",
    "    plt.show()\n"
   ]
  },
  {
   "cell_type": "code",
   "execution_count": null,
   "metadata": {},
   "outputs": [],
   "source": [
    "image_grid(images, 4, 10)"
   ]
  },
  {
   "cell_type": "code",
   "execution_count": null,
   "metadata": {},
   "outputs": [],
   "source": [
    "CV_Stitcher_Status = {\n",
    "    0: \"OK\",\n",
    "    1: \"ERR_NEED_MORE_IMGS\",\n",
    "    2: \"ERR_HOMOGRAPHY_EST_FAIL\",\n",
    "    3: \"ERR_CAMERA_PARAMS_ADJUST_FAIL\",\n",
    "}"
   ]
  },
  {
   "cell_type": "code",
   "execution_count": null,
   "metadata": {},
   "outputs": [],
   "source": [
    "# homography matrix from extrinsic calibration\n",
    "H = np.array([\n",
    "    [\n",
    "        -2.0034503550345025e-05, -0.00024135375115419462, -0.17586334553295266],\n",
    "        [0.0009483766329084943, -3.283577271733423e-05, -0.3107424755962904],\n",
    "        [-0.00016255750671592163, -0.006765916706019695, 1.0]\n",
    "    ]\n",
    ")\n",
    "\n",
    "h, w = images[0].shape[:2]\n",
    "\n",
    "T = np.array([\n",
    "    [w, 0, -w/10],\n",
    "    [0, h, h/2],\n",
    "    [0, 0, 1]\n",
    "])\n",
    "\n",
    "TH = T @ H"
   ]
  },
  {
   "cell_type": "code",
   "execution_count": null,
   "metadata": {},
   "outputs": [],
   "source": [
    "warped_images = []\n",
    "\n",
    "for image in images:\n",
    "    warped_image = cv.warpPerspective(image, TH, (w // 3, h))\n",
    "    warped_images.append(warped_image)"
   ]
  },
  {
   "cell_type": "code",
   "execution_count": null,
   "metadata": {},
   "outputs": [],
   "source": [
    "image_grid(warped_images, 4, 10)"
   ]
  },
  {
   "cell_type": "code",
   "execution_count": null,
   "metadata": {},
   "outputs": [],
   "source": [
    "mode = cv.Stitcher_PANORAMA\n",
    "mode = cv.Stitcher_SCANS\n",
    "\n",
    "output_path = \"output.png\"\n",
    "\n",
    "stitcher = cv.Stitcher.create(mode)\n",
    "status, pano = stitcher.stitch(warped_images)\n",
    "\n",
    "if status != cv.Stitcher_OK:\n",
    "    print(\"Stitching failed with status\", CV_Stitcher_Status[status])\n",
    "else:\n",
    "    cv.imwrite(output_path, pano)"
   ]
  },
  {
   "cell_type": "code",
   "execution_count": null,
   "metadata": {},
   "outputs": [],
   "source": [
    "# also tried an incremental stitch"
   ]
  },
  {
   "cell_type": "code",
   "execution_count": null,
   "metadata": {},
   "outputs": [],
   "source": [
    "def incremental_stitch(images, mode):\n",
    "    stitcher = cv.Stitcher.create(mode)\n",
    "    pano = None\n",
    "    used = 0\n",
    "    for image in images:\n",
    "        if pano is None:\n",
    "            pano = image\n",
    "            continue\n",
    "        try:\n",
    "            status, pano_ = stitcher.stitch([pano, image])\n",
    "        except cv.error:\n",
    "            continue\n",
    "        if status != cv.Stitcher_OK:\n",
    "            continue\n",
    "        else:\n",
    "            used += 1\n",
    "        pano = pano_\n",
    "    return pano, used, len(images) - used"
   ]
  },
  {
   "cell_type": "code",
   "execution_count": null,
   "metadata": {},
   "outputs": [],
   "source": [
    "pano, *_ = incremental_stitch(warped_images, cv.Stitcher_SCANS)\n",
    "cv.imwrite(\"incremental_scan.png\", pano)"
   ]
  }
 ],
 "metadata": {
  "kernelspec": {
   "display_name": "env",
   "language": "python",
   "name": "python3"
  },
  "language_info": {
   "codemirror_mode": {
    "name": "ipython",
    "version": 3
   },
   "file_extension": ".py",
   "mimetype": "text/x-python",
   "name": "python",
   "nbconvert_exporter": "python",
   "pygments_lexer": "ipython3",
   "version": "3.11.2"
  },
  "orig_nbformat": 4
 },
 "nbformat": 4,
 "nbformat_minor": 2
}
